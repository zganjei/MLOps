{
 "cells": [
  {
   "cell_type": "markdown",
   "id": "316d3159-4393-4a31-af22-63d9e5d54500",
   "metadata": {},
   "source": [
    "# 2-3 Vertex AI pipeline - AutoML with clients in automated pipeline"
   ]
  },
  {
   "cell_type": "markdown",
   "id": "fcc656da-9510-47ff-adfb-248ff99d213d",
   "metadata": {},
   "source": [
    "The pipeline will create a dataset, then create an AutoML model, create an endpoint and deploy our model to that. Then we can interact with the deployed model, which is our asset, and get predictions from it\n",
    "\n",
    "# Setup"
   ]
  },
  {
   "cell_type": "code",
   "execution_count": 2,
   "id": "dd100d7a-480f-4b8b-96bc-975ca8b1cec3",
   "metadata": {
    "tags": []
   },
   "outputs": [],
   "source": [
    "REGION = 'europe-west1'\n",
    "PROJECT_ID = 'llmops-452409'\n",
    "DATANAME = 'fraud'\n",
    "NOTEBOOK = '2-3'\n",
    "BUCKET = 'llmops-zeinab-123'\n",
    "\n",
    "# Resources\n",
    "DEPLOY_COMPUTE = 'n1-standard-4'\n",
    "\n",
    "# Model Training\n",
    "VAR_TARGET = 'Class'\n",
    "VAR_OMIT = 'transaction_id'"
   ]
  },
  {
   "cell_type": "code",
   "execution_count": 3,
   "id": "8260458a-dd49-4d2f-8229-e0b1ba80c976",
   "metadata": {
    "tags": []
   },
   "outputs": [],
   "source": [
    "from google.cloud import aiplatform, bigquery\n",
    "from datetime import datetime\n",
    "from kfp import compiler, dsl #Kubeflow pipeline to build the pipeline in Vertex AI\n",
    "from google.protobuf import json_format\n",
    "from google.protobuf.struct_pb2 import Value\n",
    "import json\n",
    "import numpy as np"
   ]
  },
  {
   "cell_type": "code",
   "execution_count": 4,
   "id": "16058902-df8e-426c-bc55-573058c96645",
   "metadata": {
    "tags": []
   },
   "outputs": [],
   "source": [
    "aiplatform.init(project=PROJECT_ID,location=REGION)\n",
    "bigquery = bigquery.Client()"
   ]
  },
  {
   "cell_type": "code",
   "execution_count": 23,
   "id": "8e2fc94b-004c-4217-8a86-a1b17c7f28a5",
   "metadata": {
    "tags": []
   },
   "outputs": [],
   "source": [
    "TIMESTAMP = datetime.now().strftime(\"%Y%m%d%H%M%S\")\n",
    "URI = f\"gs://{BUCKET}/{DATANAME}/models/{NOTEBOOK}\"\n",
    "DIR = f\"temp/{NOTEBOOK}\""
   ]
  },
  {
   "cell_type": "markdown",
   "id": "170727e8-7f81-4e4a-8d74-4f1b11723a7e",
   "metadata": {},
   "source": [
    "Note: Give the role storage.objectAdmin to service account printed below via GCP Console"
   ]
  },
  {
   "cell_type": "code",
   "execution_count": 5,
   "id": "7c3326fc-2efa-487d-ab3c-a6e4306a1de1",
   "metadata": {
    "tags": []
   },
   "outputs": [
    {
     "data": {
      "text/plain": [
       "'200042228144-compute@developer.gserviceaccount.com'"
      ]
     },
     "execution_count": 5,
     "metadata": {},
     "output_type": "execute_result"
    }
   ],
   "source": [
    "SERVICE_ACCOUNT = !gcloud config list --format='value(core.account)'\n",
    "SERVICE_ACCOUNT = SERVICE_ACCOUNT[0]\n",
    "SERVICE_ACCOUNT"
   ]
  },
  {
   "cell_type": "markdown",
   "id": "7e63393b-98ad-4427-8205-286d409ba0f9",
   "metadata": {},
   "source": [
    "environment: start from a fresh temp directory"
   ]
  },
  {
   "cell_type": "code",
   "execution_count": 6,
   "id": "81de98f4-4a09-46f1-8f18-0fbdd7cce6b5",
   "metadata": {
    "tags": []
   },
   "outputs": [],
   "source": [
    "!rm -rf {DIR}\n",
    "!mkdir -p {DIR}"
   ]
  },
  {
   "cell_type": "markdown",
   "id": "ac94eea1-b74c-4aab-ad89-7bc688317ad7",
   "metadata": {},
   "source": [
    "## Define the Pipeline\n",
    "We don't need to containerize the components, KFP will take care of that :)\n",
    "NOTE: Make sure to set the locations properly, otherwise the job will fail. Dataset, training job, etc need to be in the same region."
   ]
  },
  {
   "cell_type": "code",
   "execution_count": 13,
   "id": "6ab42072-6808-4ee2-8795-b3c9a2c5d099",
   "metadata": {},
   "outputs": [
    {
     "name": "stdout",
     "output_type": "stream",
     "text": [
      "Created new dataset: {{channel:task=tabular-dataset-create;name=dataset;type=google.VertexDataset@0.0.1;}}\n"
     ]
    },
    {
     "name": "stderr",
     "output_type": "stream",
     "text": [
      "/opt/conda/envs/tensorflow/lib/python3.10/site-packages/google/cloud/bigquery/table.py:2309: UserWarning: Unable to represent RANGE schema as struct using pandas ArrowDtype. Using `object` instead. To use ArrowDtype, use pandas >= 1.5 and pyarrow >= 10.0.1.\n",
      "  warnings.warn(_RANGE_PYARROW_WARNING)\n",
      "/opt/conda/envs/tensorflow/lib/python3.10/site-packages/google/cloud/bigquery/table.py:2323: UserWarning: Unable to represent RANGE schema as struct using pandas ArrowDtype. Using `object` instead. To use ArrowDtype, use pandas >= 1.5 and pyarrow >= 10.0.1.\n",
      "  warnings.warn(_RANGE_PYARROW_WARNING)\n",
      "/opt/conda/envs/tensorflow/lib/python3.10/site-packages/google/cloud/bigquery/table.py:2337: UserWarning: Unable to represent RANGE schema as struct using pandas ArrowDtype. Using `object` instead. To use ArrowDtype, use pandas >= 1.5 and pyarrow >= 10.0.1.\n",
      "  warnings.warn(_RANGE_PYARROW_WARNING)\n"
     ]
    },
    {
     "name": "stdout",
     "output_type": "stream",
     "text": [
      "Trained new model: {{channel:task=automl-tabular-training-job;name=model;type=google.VertexModel@0.0.1;}}\n",
      "Created new endpoint: {{channel:task=endpoint-create;name=endpoint;type=google.VertexEndpoint@0.0.1;}}\n"
     ]
    }
   ],
   "source": [
    "from google_cloud_pipeline_components.v1.automl.training_job import AutoMLTabularTrainingJobRunOp\n",
    "from google_cloud_pipeline_components.v1.dataset.create_tabular_dataset.component import tabular_dataset_create as TabularDatasetCreateOp\n",
    "from google_cloud_pipeline_components.v1.endpoint.create_endpoint.component import endpoint_create as EndpointCreateOp\n",
    "from google_cloud_pipeline_components.v1.endpoint.deploy_model.component import model_deploy as ModelDeployOp\n",
    "\n",
    "@dsl.pipeline(name = f'kfp-{NOTEBOOK}-{DATANAME}-{TIMESTAMP}', pipeline_root = URI+'/'+str(TIMESTAMP)+'/kfp/')\n",
    "def pipeline(\n",
    "    project: str = PROJECT_ID,\n",
    "    dataname: str=DATANAME,\n",
    "    display_name: str=f'{NOTEBOOK}-{DATANAME}-{TIMESTAMP}',\n",
    "    deploy_machine: str = DEPLOY_COMPUTE,\n",
    "    bq_source: str = f'bq://{PROJECT_ID}.{DATANAME}.{DATANAME}_prepped',\n",
    "    var_target: str = VAR_TARGET,\n",
    "    var_omit: str = VAR_OMIT,\n",
    "    location: str= REGION,\n",
    "    label: str = NOTEBOOK\n",
    "):\n",
    "    \n",
    "    #1st component\n",
    "    #dataset\n",
    "    display_name_filter = f\"{NOTEBOOK}-{DATANAME}-{TIMESTAMP}\"\n",
    "    existing_datasets = aiplatform.TabularDataset.list(filter=f\"display_name={display_name_filter}\")\n",
    "    # if existing_datasets:\n",
    "    #     dataset = existing_datasets[0]\n",
    "    #     print(f\"Using existing dataset: {dataset.display_name}\")\n",
    "    # else:\n",
    "    dataset = TabularDatasetCreateOp(\n",
    "        project = project,\n",
    "        display_name = display_name,\n",
    "        bq_source = bq_source,\n",
    "        location=location,\n",
    "        labels = {'notebook':f'{NOTEBOOK}'}\n",
    "    ).outputs[\"dataset\"]\n",
    "    print(f\"Created new dataset: {dataset}\")\n",
    "    \n",
    "    #get feature names\n",
    "    from google.cloud import bigquery\n",
    "    bigquery = bigquery.Client(project = PROJECT_ID)\n",
    "    # get all the column names from our dataset\n",
    "    query = f\"SELECT * FROM {DATANAME}.INFORMATION_SCHEMA.COLUMNS WHERE TABLE_NAME = '{DATANAME}_prepped'\"\n",
    "    schema = bigquery.query(query).to_dataframe()\n",
    "    # remove transaction id, target variable, and splits columns\n",
    "    OMIT = VAR_OMIT.split() + [VAR_TARGET, 'splits']\n",
    "    #build the list of features from the list of column names\n",
    "    features = schema[~schema.column_name.isin(OMIT)].column_name.tolist()\n",
    "    features = dict.fromkeys(features, 'auto')\n",
    "    \n",
    "   # AutoML tabular training job\n",
    "    # Check if the model already exists\n",
    "    # existing_models = aiplatform.Model.list(\n",
    "    #     filter=f\"display_name={display_name_filter}\",\n",
    "    #     order_by=\"update_time desc\"\n",
    "    # )\n",
    "\n",
    "    # if existing_models:\n",
    "    #     model = existing_models[0]  # Use the latest existing model\n",
    "    #     print(f\"Using existing model: {model.display_name}\")\n",
    "    # else:\n",
    "    #     # Train a new model if no existing one is found\n",
    "    model = AutoMLTabularTrainingJobRunOp(\n",
    "        project = project,\n",
    "        location=location,\n",
    "        display_name = display_name,\n",
    "        optimization_prediction_type = \"classification\",\n",
    "        optimization_objective = 'maximize-au-prc',\n",
    "        budget_milli_node_hours = 2000,#i.e. 2 hours\n",
    "        disable_early_stopping=False, #enable early stopping if the model does not get better\n",
    "        column_specs = features,\n",
    "        dataset = dataset,\n",
    "        target_column = var_target,\n",
    "        predefined_split_column_name = 'splits',\n",
    "        labels = {'notebook':f'{NOTEBOOK}'}        \n",
    "    ).outputs[\"model\"]\n",
    "    print(f\"Trained new model: {model}\")\n",
    "    \n",
    "    # Endpoint: Creation\n",
    "    # Check if the endpoint already exists\n",
    "    # existing_endpoints = aiplatform.Endpoint.list(\n",
    "    #     filter=f\"display_name={display_name_filter}\",\n",
    "    #     order_by=\"update_time desc\"\n",
    "    # )\n",
    "\n",
    "    # if existing_endpoints:\n",
    "    #     endpoint = existing_endpoints[0]  # Use the latest existing endpoint\n",
    "    #     print(f\"Using existing endpoint: {endpoint.display_name}\")\n",
    "    # else:\n",
    "        #Create a new endpoint if none exist\n",
    "    endpoint = EndpointCreateOp(\n",
    "        project = project,\n",
    "        location=location,\n",
    "        display_name = display_name,\n",
    "        labels = {'notebook':f'{label}'}\n",
    "    ).outputs[\"endpoint\"]\n",
    "    print(f\"Created new endpoint: {endpoint}\")\n",
    "    \n",
    "    # Endpoint: Deployment of Model\n",
    "    # TODO: check if an endpoint already exists\n",
    "    deployment = ModelDeployOp(\n",
    "        model = model,\n",
    "        endpoint = endpoint,\n",
    "        dedicated_resources_min_replica_count =1,\n",
    "        dedicated_resources_max_replica_count = 1,\n",
    "        traffic_split = {\"0\": 100},\n",
    "        dedicated_resources_machine_type = deploy_machine\n",
    "    )\n",
    "    "
   ]
  },
  {
   "cell_type": "markdown",
   "id": "1f233db4-b137-485d-a780-ebc07c8fc6cf",
   "metadata": {},
   "source": [
    "## Compile Pipeline"
   ]
  },
  {
   "cell_type": "code",
   "execution_count": 14,
   "id": "c48ed9e4-24c5-4242-9d90-9807eca8d5c7",
   "metadata": {
    "tags": []
   },
   "outputs": [],
   "source": [
    "compiler.Compiler().compile(\n",
    "    pipeline_func = pipeline,\n",
    "    package_path = f\"{DIR}/{NOTEBOOK}.json\"\n",
    ")"
   ]
  },
  {
   "cell_type": "markdown",
   "id": "c94927be-753d-4143-a4a8-ce9a44c25459",
   "metadata": {
    "tags": []
   },
   "source": [
    "Move compiled pipeline files to GCS Bucket"
   ]
  },
  {
   "cell_type": "code",
   "execution_count": 15,
   "id": "c12af74c-1c61-4da6-b3e3-61e18bdbc904",
   "metadata": {
    "tags": []
   },
   "outputs": [
    {
     "name": "stdout",
     "output_type": "stream",
     "text": [
      "Copying file://temp/2-3/2-3.json [Content-Type=application/json]...\n",
      "/ [1 files][ 49.0 KiB/ 49.0 KiB]                                                \n",
      "Operation completed over 1 objects/49.0 KiB.                                     \n"
     ]
    }
   ],
   "source": [
    "!gsutil cp {DIR}/{NOTEBOOK}.json {URI}/{TIMESTAMP}/kfp/"
   ]
  },
  {
   "cell_type": "markdown",
   "id": "1887d159-2964-42de-8840-f896a3b2892c",
   "metadata": {},
   "source": [
    "## Create Vertex AI Pipeline Job"
   ]
  },
  {
   "cell_type": "code",
   "execution_count": 16,
   "id": "e117f7ff-47af-4417-b005-73d80c97e4d6",
   "metadata": {
    "tags": []
   },
   "outputs": [],
   "source": [
    "pipeline = aiplatform.PipelineJob(\n",
    "    display_name = f'{NOTEBOOK}_{DATANAME}_{TIMESTAMP}',\n",
    "    template_path= f\"{URI}/{TIMESTAMP}/kfp/{NOTEBOOK}.json\",\n",
    "    pipeline_root= f\"{URI}/{TIMESTAMP}/kfp/\",\n",
    "    labels= {'notebook': f'{NOTEBOOK}'},    \n",
    "    enable_caching = True # this is for caching the completed steps of the pipeline and is useful for resuming when there is an error\n",
    ")"
   ]
  },
  {
   "cell_type": "code",
   "execution_count": null,
   "id": "4dd95886-7a87-4620-9b43-956aadc28e26",
   "metadata": {
    "tags": []
   },
   "outputs": [
    {
     "name": "stdout",
     "output_type": "stream",
     "text": [
      "Creating PipelineJob\n",
      "PipelineJob created. Resource name: projects/200042228144/locations/europe-west1/pipelineJobs/kfp-2-3-fraud-20250306094814-20250306132216\n",
      "To use this PipelineJob in another session:\n",
      "pipeline_job = aiplatform.PipelineJob.get('projects/200042228144/locations/europe-west1/pipelineJobs/kfp-2-3-fraud-20250306094814-20250306132216')\n",
      "View Pipeline Job:\n",
      "https://console.cloud.google.com/vertex-ai/locations/europe-west1/pipelines/runs/kfp-2-3-fraud-20250306094814-20250306132216?project=200042228144\n",
      "PipelineJob projects/200042228144/locations/europe-west1/pipelineJobs/kfp-2-3-fraud-20250306094814-20250306132216 current state:\n",
      "PipelineState.PIPELINE_STATE_RUNNING\n",
      "PipelineJob projects/200042228144/locations/europe-west1/pipelineJobs/kfp-2-3-fraud-20250306094814-20250306132216 current state:\n",
      "PipelineState.PIPELINE_STATE_RUNNING\n",
      "PipelineJob projects/200042228144/locations/europe-west1/pipelineJobs/kfp-2-3-fraud-20250306094814-20250306132216 current state:\n",
      "PipelineState.PIPELINE_STATE_RUNNING\n",
      "PipelineJob projects/200042228144/locations/europe-west1/pipelineJobs/kfp-2-3-fraud-20250306094814-20250306132216 current state:\n",
      "PipelineState.PIPELINE_STATE_RUNNING\n",
      "PipelineJob projects/200042228144/locations/europe-west1/pipelineJobs/kfp-2-3-fraud-20250306094814-20250306132216 current state:\n",
      "PipelineState.PIPELINE_STATE_RUNNING\n",
      "PipelineJob projects/200042228144/locations/europe-west1/pipelineJobs/kfp-2-3-fraud-20250306094814-20250306132216 current state:\n",
      "PipelineState.PIPELINE_STATE_RUNNING\n",
      "PipelineJob projects/200042228144/locations/europe-west1/pipelineJobs/kfp-2-3-fraud-20250306094814-20250306132216 current state:\n",
      "PipelineState.PIPELINE_STATE_RUNNING\n",
      "PipelineJob projects/200042228144/locations/europe-west1/pipelineJobs/kfp-2-3-fraud-20250306094814-20250306132216 current state:\n",
      "PipelineState.PIPELINE_STATE_RUNNING\n",
      "PipelineJob projects/200042228144/locations/europe-west1/pipelineJobs/kfp-2-3-fraud-20250306094814-20250306132216 current state:\n",
      "PipelineState.PIPELINE_STATE_RUNNING\n",
      "PipelineJob projects/200042228144/locations/europe-west1/pipelineJobs/kfp-2-3-fraud-20250306094814-20250306132216 current state:\n",
      "PipelineState.PIPELINE_STATE_RUNNING\n",
      "PipelineJob projects/200042228144/locations/europe-west1/pipelineJobs/kfp-2-3-fraud-20250306094814-20250306132216 current state:\n",
      "PipelineState.PIPELINE_STATE_RUNNING\n",
      "PipelineJob projects/200042228144/locations/europe-west1/pipelineJobs/kfp-2-3-fraud-20250306094814-20250306132216 current state:\n",
      "PipelineState.PIPELINE_STATE_RUNNING\n",
      "PipelineJob projects/200042228144/locations/europe-west1/pipelineJobs/kfp-2-3-fraud-20250306094814-20250306132216 current state:\n",
      "PipelineState.PIPELINE_STATE_RUNNING\n",
      "PipelineJob projects/200042228144/locations/europe-west1/pipelineJobs/kfp-2-3-fraud-20250306094814-20250306132216 current state:\n",
      "PipelineState.PIPELINE_STATE_RUNNING\n",
      "PipelineJob projects/200042228144/locations/europe-west1/pipelineJobs/kfp-2-3-fraud-20250306094814-20250306132216 current state:\n",
      "PipelineState.PIPELINE_STATE_RUNNING\n",
      "PipelineJob projects/200042228144/locations/europe-west1/pipelineJobs/kfp-2-3-fraud-20250306094814-20250306132216 current state:\n",
      "PipelineState.PIPELINE_STATE_RUNNING\n",
      "PipelineJob projects/200042228144/locations/europe-west1/pipelineJobs/kfp-2-3-fraud-20250306094814-20250306132216 current state:\n",
      "PipelineState.PIPELINE_STATE_RUNNING\n",
      "PipelineJob projects/200042228144/locations/europe-west1/pipelineJobs/kfp-2-3-fraud-20250306094814-20250306132216 current state:\n",
      "PipelineState.PIPELINE_STATE_RUNNING\n",
      "PipelineJob projects/200042228144/locations/europe-west1/pipelineJobs/kfp-2-3-fraud-20250306094814-20250306132216 current state:\n",
      "PipelineState.PIPELINE_STATE_RUNNING\n",
      "PipelineJob projects/200042228144/locations/europe-west1/pipelineJobs/kfp-2-3-fraud-20250306094814-20250306132216 current state:\n",
      "PipelineState.PIPELINE_STATE_RUNNING\n"
     ]
    }
   ],
   "source": [
    "response = pipeline.run(service_account = SERVICE_ACCOUNT)"
   ]
  },
  {
   "attachments": {
    "81499889-5642-472a-988e-48c08758021d.png": {
     "image/png": "[encoded data removed]"
    }
   },
   "cell_type": "markdown",
   "id": "57e26628-3ff8-4545-ae45-5523665de61b",
   "metadata": {},
   "source": [
    "![image.png](attachment:81499889-5642-472a-988e-48c08758021d.png)"
   ]
  },
  {
   "cell_type": "code",
   "execution_count": 6,
   "id": "a6d679ad-46ea-410c-b36b-67a3ee0c929d",
   "metadata": {},
   "outputs": [],
   "source": [
    "# aiplatform.get_pipeline_df(pipeline =\"kfp-2-3-fraud-20250306094814-20250306132216\")"
   ]
  },
  {
   "cell_type": "markdown",
   "id": "ca4c99e3-a819-4aa3-83f4-446d92150b3b",
   "metadata": {},
   "source": [
    "## Prediction\n",
    "\n",
    "Prepare a record for prediction: instance and paramers lists"
   ]
  },
  {
   "cell_type": "code",
   "execution_count": 17,
   "id": "0607e51b-0b8f-4e9d-ba81-e95efbb306a9",
   "metadata": {
    "tags": []
   },
   "outputs": [
    {
     "name": "stderr",
     "output_type": "stream",
     "text": [
      "/opt/conda/envs/tensorflow/lib/python3.10/site-packages/google/cloud/bigquery/table.py:2309: UserWarning: Unable to represent RANGE schema as struct using pandas ArrowDtype. Using `object` instead. To use ArrowDtype, use pandas >= 1.5 and pyarrow >= 10.0.1.\n",
      "  warnings.warn(_RANGE_PYARROW_WARNING)\n",
      "/opt/conda/envs/tensorflow/lib/python3.10/site-packages/google/cloud/bigquery/table.py:2323: UserWarning: Unable to represent RANGE schema as struct using pandas ArrowDtype. Using `object` instead. To use ArrowDtype, use pandas >= 1.5 and pyarrow >= 10.0.1.\n",
      "  warnings.warn(_RANGE_PYARROW_WARNING)\n",
      "/opt/conda/envs/tensorflow/lib/python3.10/site-packages/google/cloud/bigquery/table.py:2337: UserWarning: Unable to represent RANGE schema as struct using pandas ArrowDtype. Using `object` instead. To use ArrowDtype, use pandas >= 1.5 and pyarrow >= 10.0.1.\n",
      "  warnings.warn(_RANGE_PYARROW_WARNING)\n"
     ]
    },
    {
     "data": {
      "text/html": [
       "<div>\n",
       "<style scoped>\n",
       "    .dataframe tbody tr th:only-of-type {\n",
       "        vertical-align: middle;\n",
       "    }\n",
       "\n",
       "    .dataframe tbody tr th {\n",
       "        vertical-align: top;\n",
       "    }\n",
       "\n",
       "    .dataframe thead th {\n",
       "        text-align: right;\n",
       "    }\n",
       "</style>\n",
       "<table border=\"1\" class=\"dataframe\">\n",
       "  <thead>\n",
       "    <tr style=\"text-align: right;\">\n",
       "      <th></th>\n",
       "      <th>Time</th>\n",
       "      <th>V1</th>\n",
       "      <th>V2</th>\n",
       "      <th>V3</th>\n",
       "      <th>V4</th>\n",
       "      <th>V5</th>\n",
       "      <th>V6</th>\n",
       "      <th>V7</th>\n",
       "      <th>V8</th>\n",
       "      <th>V9</th>\n",
       "      <th>...</th>\n",
       "      <th>V23</th>\n",
       "      <th>V24</th>\n",
       "      <th>V25</th>\n",
       "      <th>V26</th>\n",
       "      <th>V27</th>\n",
       "      <th>V28</th>\n",
       "      <th>Amount</th>\n",
       "      <th>Class</th>\n",
       "      <th>transaction_id</th>\n",
       "      <th>splits</th>\n",
       "    </tr>\n",
       "  </thead>\n",
       "  <tbody>\n",
       "    <tr>\n",
       "      <th>0</th>\n",
       "      <td>125658</td>\n",
       "      <td>0.224414</td>\n",
       "      <td>2.994499</td>\n",
       "      <td>-3.432458</td>\n",
       "      <td>3.986519</td>\n",
       "      <td>3.760233</td>\n",
       "      <td>0.165640</td>\n",
       "      <td>1.099378</td>\n",
       "      <td>-0.654557</td>\n",
       "      <td>-2.435416</td>\n",
       "      <td>...</td>\n",
       "      <td>-0.421979</td>\n",
       "      <td>-1.048058</td>\n",
       "      <td>0.726412</td>\n",
       "      <td>0.268625</td>\n",
       "      <td>0.283689</td>\n",
       "      <td>0.419102</td>\n",
       "      <td>0.00</td>\n",
       "      <td>1</td>\n",
       "      <td>fc4b2fac-69e2-4460-bb8a-701e3c679be2</td>\n",
       "      <td>TEST</td>\n",
       "    </tr>\n",
       "    <tr>\n",
       "      <th>1</th>\n",
       "      <td>85285</td>\n",
       "      <td>-7.030308</td>\n",
       "      <td>3.421991</td>\n",
       "      <td>-9.525072</td>\n",
       "      <td>5.270891</td>\n",
       "      <td>-4.024630</td>\n",
       "      <td>-2.865682</td>\n",
       "      <td>-6.989195</td>\n",
       "      <td>3.791551</td>\n",
       "      <td>-4.622730</td>\n",
       "      <td>...</td>\n",
       "      <td>0.036943</td>\n",
       "      <td>-0.355519</td>\n",
       "      <td>0.353634</td>\n",
       "      <td>1.042458</td>\n",
       "      <td>1.359516</td>\n",
       "      <td>-0.272188</td>\n",
       "      <td>0.00</td>\n",
       "      <td>1</td>\n",
       "      <td>83f7f41d-01f8-4927-b491-b0d75a0dbf02</td>\n",
       "      <td>TEST</td>\n",
       "    </tr>\n",
       "    <tr>\n",
       "      <th>2</th>\n",
       "      <td>142961</td>\n",
       "      <td>0.457845</td>\n",
       "      <td>1.373769</td>\n",
       "      <td>-0.488926</td>\n",
       "      <td>2.805351</td>\n",
       "      <td>1.777386</td>\n",
       "      <td>0.100492</td>\n",
       "      <td>1.295016</td>\n",
       "      <td>-0.135857</td>\n",
       "      <td>-1.695822</td>\n",
       "      <td>...</td>\n",
       "      <td>0.051105</td>\n",
       "      <td>0.401524</td>\n",
       "      <td>-0.724766</td>\n",
       "      <td>-0.202881</td>\n",
       "      <td>0.092124</td>\n",
       "      <td>0.094956</td>\n",
       "      <td>0.00</td>\n",
       "      <td>1</td>\n",
       "      <td>236bc56a-7162-4f0b-8f2d-6043465364a8</td>\n",
       "      <td>TEST</td>\n",
       "    </tr>\n",
       "    <tr>\n",
       "      <th>3</th>\n",
       "      <td>93834</td>\n",
       "      <td>-3.765680</td>\n",
       "      <td>5.890735</td>\n",
       "      <td>-10.202268</td>\n",
       "      <td>10.259036</td>\n",
       "      <td>-5.611448</td>\n",
       "      <td>-3.235376</td>\n",
       "      <td>-10.632683</td>\n",
       "      <td>3.272716</td>\n",
       "      <td>-5.268905</td>\n",
       "      <td>...</td>\n",
       "      <td>0.381853</td>\n",
       "      <td>0.382025</td>\n",
       "      <td>-0.821036</td>\n",
       "      <td>0.394355</td>\n",
       "      <td>1.412961</td>\n",
       "      <td>0.782407</td>\n",
       "      <td>0.01</td>\n",
       "      <td>1</td>\n",
       "      <td>bbb9bb66-30ae-4181-8a77-6dac8c1b3b67</td>\n",
       "      <td>TEST</td>\n",
       "    </tr>\n",
       "    <tr>\n",
       "      <th>4</th>\n",
       "      <td>29531</td>\n",
       "      <td>-1.060676</td>\n",
       "      <td>2.608579</td>\n",
       "      <td>-2.971679</td>\n",
       "      <td>4.360089</td>\n",
       "      <td>3.738853</td>\n",
       "      <td>-2.728395</td>\n",
       "      <td>1.987616</td>\n",
       "      <td>-0.357345</td>\n",
       "      <td>-2.757535</td>\n",
       "      <td>...</td>\n",
       "      <td>-0.183261</td>\n",
       "      <td>-0.103679</td>\n",
       "      <td>0.896178</td>\n",
       "      <td>0.407387</td>\n",
       "      <td>-0.130918</td>\n",
       "      <td>0.192177</td>\n",
       "      <td>0.68</td>\n",
       "      <td>1</td>\n",
       "      <td>4d00994a-9691-4f92-a905-afe61f2c0a81</td>\n",
       "      <td>TEST</td>\n",
       "    </tr>\n",
       "  </tbody>\n",
       "</table>\n",
       "<p>5 rows × 33 columns</p>\n",
       "</div>"
      ],
      "text/plain": [
       "     Time        V1        V2         V3         V4        V5        V6  \\\n",
       "0  125658  0.224414  2.994499  -3.432458   3.986519  3.760233  0.165640   \n",
       "1   85285 -7.030308  3.421991  -9.525072   5.270891 -4.024630 -2.865682   \n",
       "2  142961  0.457845  1.373769  -0.488926   2.805351  1.777386  0.100492   \n",
       "3   93834 -3.765680  5.890735 -10.202268  10.259036 -5.611448 -3.235376   \n",
       "4   29531 -1.060676  2.608579  -2.971679   4.360089  3.738853 -2.728395   \n",
       "\n",
       "          V7        V8        V9  ...       V23       V24       V25       V26  \\\n",
       "0   1.099378 -0.654557 -2.435416  ... -0.421979 -1.048058  0.726412  0.268625   \n",
       "1  -6.989195  3.791551 -4.622730  ...  0.036943 -0.355519  0.353634  1.042458   \n",
       "2   1.295016 -0.135857 -1.695822  ...  0.051105  0.401524 -0.724766 -0.202881   \n",
       "3 -10.632683  3.272716 -5.268905  ...  0.381853  0.382025 -0.821036  0.394355   \n",
       "4   1.987616 -0.357345 -2.757535  ... -0.183261 -0.103679  0.896178  0.407387   \n",
       "\n",
       "        V27       V28  Amount  Class                        transaction_id  \\\n",
       "0  0.283689  0.419102    0.00      1  fc4b2fac-69e2-4460-bb8a-701e3c679be2   \n",
       "1  1.359516 -0.272188    0.00      1  83f7f41d-01f8-4927-b491-b0d75a0dbf02   \n",
       "2  0.092124  0.094956    0.00      1  236bc56a-7162-4f0b-8f2d-6043465364a8   \n",
       "3  1.412961  0.782407    0.01      1  bbb9bb66-30ae-4181-8a77-6dac8c1b3b67   \n",
       "4 -0.130918  0.192177    0.68      1  4d00994a-9691-4f92-a905-afe61f2c0a81   \n",
       "\n",
       "   splits  \n",
       "0    TEST  \n",
       "1    TEST  \n",
       "2    TEST  \n",
       "3    TEST  \n",
       "4    TEST  \n",
       "\n",
       "[5 rows x 33 columns]"
      ]
     },
     "execution_count": 17,
     "metadata": {},
     "output_type": "execute_result"
    }
   ],
   "source": [
    "pred = bigquery.query(query = f\"SELECT * FROM {DATANAME}.{DATANAME}_prepped WHERE splits ='TEST' and Class=1 LIMIT 10\").to_dataframe()\n",
    "pred.head()"
   ]
  },
  {
   "cell_type": "markdown",
   "id": "34221a8c-05cd-42a7-a070-fdc09a7103fb",
   "metadata": {},
   "source": [
    "Remove extra columns"
   ]
  },
  {
   "cell_type": "code",
   "execution_count": 18,
   "id": "c7188ca6-ffbe-4375-acc2-5f7c3fca926f",
   "metadata": {
    "tags": []
   },
   "outputs": [],
   "source": [
    "newob = pred[pred.columns[~pred.columns.isin(VAR_OMIT.split()+[VAR_TARGET, 'splits'])]].to_dict(orient='records')[4]\n",
    "newob['Time'] = str(newob['Time'])\n",
    "#structured version of the transaction which is required by the endpoint\n",
    "instances = [json_format.ParseDict(newob, Value())]\n",
    "parameters = json_format.ParseDict({},Value())"
   ]
  },
  {
   "cell_type": "markdown",
   "id": "ac27c83f-a078-4316-b010-880f439b20f5",
   "metadata": {},
   "source": [
    "## Get predictions using a Python Client\n",
    "Pick the right endpoint and ask for a prediction"
   ]
  },
  {
   "cell_type": "code",
   "execution_count": 19,
   "id": "2f638d1d-546a-4fc5-9566-a461b684fd2d",
   "metadata": {
    "tags": []
   },
   "outputs": [
    {
     "data": {
      "text/plain": [
       "'2-3-fraud-20250306094814'"
      ]
     },
     "execution_count": 19,
     "metadata": {},
     "output_type": "execute_result"
    }
   ],
   "source": [
    "endpoint = aiplatform.Endpoint.list(filter='display_name=2-3-fraud-20250306094814')[0]\n",
    "endpoint.display_name"
   ]
  },
  {
   "cell_type": "code",
   "execution_count": 20,
   "id": "c60a8d67-411d-4686-b4de-b435f9044d01",
   "metadata": {
    "tags": []
   },
   "outputs": [
    {
     "data": {
      "text/plain": [
       "Prediction(predictions=[{'classes': ['0', '1'], 'scores': [0.1106203943490982, 0.8893795609474182]}], deployed_model_id='8679909827524165632', metadata=None, model_version_id='1', model_resource_name='projects/200042228144/locations/europe-west1/models/8459717230899232768', explanations=None)"
      ]
     },
     "execution_count": 20,
     "metadata": {},
     "output_type": "execute_result"
    }
   ],
   "source": [
    "prediction = endpoint.predict(instances=instances, parameters=parameters)\n",
    "prediction"
   ]
  },
  {
   "cell_type": "code",
   "execution_count": 21,
   "id": "20bf4d69-3f8b-4f3c-8b6e-1cc856f5b72f",
   "metadata": {
    "tags": []
   },
   "outputs": [
    {
     "data": {
      "text/plain": [
       "'1'"
      ]
     },
     "execution_count": 21,
     "metadata": {},
     "output_type": "execute_result"
    }
   ],
   "source": [
    "prediction.predictions[0]['classes'][np.argmax(prediction.predictions[0]['scores'])]"
   ]
  },
  {
   "cell_type": "markdown",
   "id": "38f0eb84-b280-498f-b35a-a4a26fc8b3bc",
   "metadata": {},
   "source": [
    "## Get predictions using REST\n",
    "Dump request instances into a json file"
   ]
  },
  {
   "cell_type": "code",
   "execution_count": 24,
   "id": "d27872ad-a042-4533-b8db-612018ab5812",
   "metadata": {
    "tags": []
   },
   "outputs": [],
   "source": [
    "with open(f'{DIR}/request.json','w') as file:\n",
    "    file.write(json.dumps({\"instances\":[newob]}))"
   ]
  },
  {
   "cell_type": "code",
   "execution_count": 25,
   "id": "d46c97d2-a729-4a5b-80a3-960bc40c6dcb",
   "metadata": {
    "tags": []
   },
   "outputs": [
    {
     "name": "stdout",
     "output_type": "stream",
     "text": [
      "{\n",
      "  \"predictions\": [\n",
      "    {\n",
      "      \"scores\": [\n",
      "        0.11062039434909821,\n",
      "        0.88937956094741821\n",
      "      ],\n",
      "      \"classes\": [\n",
      "        \"0\",\n",
      "        \"1\"\n",
      "      ]\n",
      "    }\n",
      "  ],\n",
      "  \"deployedModelId\": \"8679909827524165632\",\n",
      "  \"model\": \"projects/200042228144/locations/europe-west1/models/8459717230899232768\",\n",
      "  \"modelDisplayName\": \"2-3-fraud-20250306094814\",\n",
      "  \"modelVersionId\": \"1\"\n",
      "}\n"
     ]
    }
   ],
   "source": [
    "!curl -X POST \\\n",
    "-H \"Authorization: Bearer \"$(gcloud auth application-default print-access-token) \\\n",
    "-H \"Content-Type: application/json; charset=utf-8\" \\\n",
    "-d @{DIR}/request.json \\\n",
    "https://{REGION}-aiplatform.googleapis.com/v1/{endpoint.resource_name}:predict"
   ]
  },
  {
   "cell_type": "markdown",
   "id": "b2268f15-01c1-4081-bc4e-b1163eae6716",
   "metadata": {
    "tags": []
   },
   "source": [
    "## Get predictions using gcloud CLI"
   ]
  },
  {
   "cell_type": "code",
   "execution_count": 26,
   "id": "d7d28c7e-7736-407d-9fca-ab3a00607d9b",
   "metadata": {
    "tags": []
   },
   "outputs": [
    {
     "name": "stdout",
     "output_type": "stream",
     "text": [
      "Using endpoint [https://europe-west1-prediction-aiplatform.googleapis.com/]\n",
      "[{'classes': ['0', '1'], 'scores': [0.1106203943490982, 0.8893795609474182]}]\n"
     ]
    }
   ],
   "source": [
    "!gcloud beta ai endpoints predict {endpoint.name.rsplit('/',1)[-1]} --region={REGION} --json-request={DIR}/request.json"
   ]
  },
  {
   "cell_type": "markdown",
   "id": "e59c14bf-3756-4753-9428-161003c6ac77",
   "metadata": {},
   "source": [
    "## Batch Predictions: BigQuery Source to BigQuery Destination, with Explanations\n",
    "This takes a couple of hours to generate predictions for all the records."
   ]
  },
  {
   "cell_type": "code",
   "execution_count": 27,
   "id": "1721a171-447e-406c-8b2c-8eb183bb6f49",
   "metadata": {},
   "outputs": [
    {
     "name": "stdout",
     "output_type": "stream",
     "text": [
      "Creating BatchPredictionJob\n",
      "BatchPredictionJob created. Resource name: projects/200042228144/locations/europe-west1/batchPredictionJobs/4827816881660362752\n",
      "To use this BatchPredictionJob in another session:\n",
      "bpj = aiplatform.BatchPredictionJob('projects/200042228144/locations/europe-west1/batchPredictionJobs/4827816881660362752')\n",
      "View Batch Prediction Job:\n",
      "https://console.cloud.google.com/ai/platform/locations/europe-west1/batch-predictions/4827816881660362752?project=200042228144\n",
      "BatchPredictionJob projects/200042228144/locations/europe-west1/batchPredictionJobs/4827816881660362752 current state:\n",
      "JobState.JOB_STATE_RUNNING\n",
      "BatchPredictionJob projects/200042228144/locations/europe-west1/batchPredictionJobs/4827816881660362752 current state:\n",
      "JobState.JOB_STATE_RUNNING\n",
      "BatchPredictionJob projects/200042228144/locations/europe-west1/batchPredictionJobs/4827816881660362752 current state:\n",
      "JobState.JOB_STATE_RUNNING\n",
      "BatchPredictionJob projects/200042228144/locations/europe-west1/batchPredictionJobs/4827816881660362752 current state:\n",
      "JobState.JOB_STATE_RUNNING\n",
      "BatchPredictionJob projects/200042228144/locations/europe-west1/batchPredictionJobs/4827816881660362752 current state:\n",
      "JobState.JOB_STATE_RUNNING\n",
      "BatchPredictionJob projects/200042228144/locations/europe-west1/batchPredictionJobs/4827816881660362752 current state:\n",
      "JobState.JOB_STATE_RUNNING\n",
      "BatchPredictionJob projects/200042228144/locations/europe-west1/batchPredictionJobs/4827816881660362752 current state:\n",
      "JobState.JOB_STATE_RUNNING\n",
      "BatchPredictionJob projects/200042228144/locations/europe-west1/batchPredictionJobs/4827816881660362752 current state:\n",
      "JobState.JOB_STATE_RUNNING\n",
      "BatchPredictionJob projects/200042228144/locations/europe-west1/batchPredictionJobs/4827816881660362752 current state:\n",
      "JobState.JOB_STATE_RUNNING\n",
      "BatchPredictionJob projects/200042228144/locations/europe-west1/batchPredictionJobs/4827816881660362752 current state:\n",
      "JobState.JOB_STATE_RUNNING\n",
      "BatchPredictionJob projects/200042228144/locations/europe-west1/batchPredictionJobs/4827816881660362752 current state:\n",
      "JobState.JOB_STATE_RUNNING\n",
      "BatchPredictionJob projects/200042228144/locations/europe-west1/batchPredictionJobs/4827816881660362752 current state:\n",
      "JobState.JOB_STATE_RUNNING\n",
      "BatchPredictionJob projects/200042228144/locations/europe-west1/batchPredictionJobs/4827816881660362752 current state:\n",
      "JobState.JOB_STATE_RUNNING\n",
      "BatchPredictionJob projects/200042228144/locations/europe-west1/batchPredictionJobs/4827816881660362752 current state:\n",
      "JobState.JOB_STATE_RUNNING\n",
      "BatchPredictionJob projects/200042228144/locations/europe-west1/batchPredictionJobs/4827816881660362752 current state:\n",
      "JobState.JOB_STATE_SUCCEEDED\n",
      "BatchPredictionJob run completed. Resource name: projects/200042228144/locations/europe-west1/batchPredictionJobs/4827816881660362752\n"
     ]
    }
   ],
   "source": [
    "batch = aiplatform.BatchPredictionJob.create(\n",
    "    job_display_name = f'{NOTEBOOK}_{DATANAME}_{TIMESTAMP}',\n",
    "    model_name = endpoint.list_models()[0].model,\n",
    "    instances_format = \"bigquery\",\n",
    "    predictions_format=\"bigquery\",\n",
    "    bigquery_source = f'bq://{PROJECT_ID}.{DATANAME}.{DATANAME}_prepped',\n",
    "    bigquery_destination_prefix = f\"{PROJECT_ID}\",\n",
    "    generate_explanation = True,\n",
    "    labels= {'notebook':f'{NOTEBOOK}'}\n",
    ")"
   ]
  },
  {
   "cell_type": "markdown",
   "id": "7012d717-d8bd-45d4-919b-146ef731f1ae",
   "metadata": {},
   "source": [
    "Let's first retrieve the endpoint if it's null because kernel was reset"
   ]
  },
  {
   "cell_type": "code",
   "execution_count": 28,
   "id": "cf992788-e55e-4e8d-aac6-78dff074b1ff",
   "metadata": {
    "tags": []
   },
   "outputs": [
    {
     "data": {
      "text/plain": [
       "[{'classes': ['0', '1'], 'scores': [0.1106203943490982, 0.8893795609474182]}]"
      ]
     },
     "execution_count": 28,
     "metadata": {},
     "output_type": "execute_result"
    }
   ],
   "source": [
    "explanation = endpoint.explain(instances=instances, parameters = parameters)\n",
    "explanation.predictions"
   ]
  },
  {
   "cell_type": "code",
   "execution_count": 29,
   "id": "4669cbe3-9620-442b-b197-6fbcde4c4f93",
   "metadata": {
    "tags": []
   },
   "outputs": [
    {
     "name": "stdout",
     "output_type": "stream",
     "text": [
      "attribution:\n",
      "baseline output 1.6943846276262775e-05\n",
      "instance output 0.8893795609474182\n",
      "output index [1]\n",
      "output display value 1\n",
      "approximation error 0.013172983047771179\n"
     ]
    }
   ],
   "source": [
    "print(\"attribution:\")\n",
    "print(\"baseline output\",explanation.explanations[0].attributions[0].baseline_output_value)\n",
    "print(\"instance output\",explanation.explanations[0].attributions[0].instance_output_value)\n",
    "print(\"output index\",explanation.explanations[0].attributions[0].output_index)\n",
    "print(\"output display value\",explanation.explanations[0].attributions[0].output_display_name)\n",
    "print(\"approximation error\",explanation.explanations[0].attributions[0].approximation_error)"
   ]
  },
  {
   "cell_type": "code",
   "execution_count": 30,
   "id": "e79869f2-dc17-4882-9b5a-ab40242be0ea",
   "metadata": {
    "tags": []
   },
   "outputs": [
    {
     "data": {
      "image/png": "[encoded data removed]",
      "text/plain": [
       "<Figure size 900x900 with 1 Axes>"
      ]
     },
     "metadata": {},
     "output_type": "display_data"
    }
   ],
   "source": [
    "import matplotlib.pyplot as plt\n",
    "features=[]\n",
    "scores = []\n",
    "for k in explanation.explanations[0].attributions[0].feature_attributions:\n",
    "    features.append(k)\n",
    "    scores.append(explanation.explanations[0].attributions[0].feature_attributions[k])\n",
    "features = [x for _, x in sorted(zip(scores, features))]\n",
    "scores = sorted(scores)\n",
    "fig, ax = plt.subplots()\n",
    "fig.set_size_inches(9,9)\n",
    "ax.barh(features,scores)\n",
    "fig.show()"
   ]
  },
  {
   "cell_type": "markdown",
   "id": "6cbce625-05f8-4dd0-94e1-4ce881b3aa57",
   "metadata": {},
   "source": [
    "## Retrieve the Confusion matrix through the API\n",
    "The first step would be to retrieve the model if we are not in the same session as the one that created the model"
   ]
  },
  {
   "cell_type": "code",
   "execution_count": 31,
   "id": "6602cd57-e08c-4d20-9024-08fa4fcffc5c",
   "metadata": {
    "tags": []
   },
   "outputs": [],
   "source": [
    "def get_model_by_name(model_name):\n",
    "    aiplatform.init(project=PROJECT_ID, location=REGION)\n",
    "    # Retrieve the model using its name\n",
    "    model = aiplatform.Model(model_name=model_name)\n",
    "\n",
    "    return model\n",
    "model = get_model_by_name(\"4252229279028346880\")"
   ]
  },
  {
   "cell_type": "code",
   "execution_count": 32,
   "id": "53c7a30f-a6b4-463c-96ef-af9630a51488",
   "metadata": {
    "tags": []
   },
   "outputs": [
    {
     "data": {
      "text/plain": [
       "'projects/200042228144/locations/europe-west1/models/4252229279028346880'"
      ]
     },
     "execution_count": 32,
     "metadata": {},
     "output_type": "execute_result"
    }
   ],
   "source": [
    "model.resource_name"
   ]
  },
  {
   "cell_type": "code",
   "execution_count": 33,
   "id": "500431f9-fd6a-41e0-9d1c-c8f6452a2d89",
   "metadata": {
    "tags": []
   },
   "outputs": [],
   "source": [
    "model_client = aiplatform.gapic.ModelServiceClient(\n",
    "    client_options = {\n",
    "        'api_endpoint' : f'{REGION}-aiplatform.googleapis.com'\n",
    "    }\n",
    ")"
   ]
  },
  {
   "cell_type": "code",
   "execution_count": 34,
   "id": "befafa55-06d0-4ab1-b156-3545f420c556",
   "metadata": {
    "tags": []
   },
   "outputs": [],
   "source": [
    "evaluations = model_client.list_model_evaluations(parent = model.resource_name)\n",
    "evals = iter(evaluations)\n",
    "eval_id = next(evals).name\n",
    "geteval = model_client.get_model_evaluation(name = eval_id)"
   ]
  },
  {
   "cell_type": "markdown",
   "id": "ccbf703c-f9a1-4c81-8033-856d6c55616c",
   "metadata": {},
   "source": [
    "Review several of the metrics included in the evaluation. Also, you can compare these to the results in the console view"
   ]
  },
  {
   "cell_type": "code",
   "execution_count": 35,
   "id": "1c2ab3ec-14fd-4235-8371-1edfb24d9b60",
   "metadata": {
    "tags": []
   },
   "outputs": [
    {
     "data": {
      "text/plain": [
       "0.9996297"
      ]
     },
     "execution_count": 35,
     "metadata": {},
     "output_type": "execute_result"
    }
   ],
   "source": [
    "geteval.metrics['auPrc']"
   ]
  },
  {
   "cell_type": "code",
   "execution_count": 36,
   "id": "8386e322-4256-4edc-a7b9-9053fc0eebed",
   "metadata": {
    "tags": []
   },
   "outputs": [
    {
     "name": "stdout",
     "output_type": "stream",
     "text": [
      "True Label = 0 has predicted labels = [28441.0, 2.0, 0.0]\n",
      "True Label = 1 has predicted labels = [13.0, 34.0, 0.0]\n",
      "True Label = DROPPED has predicted labels = [0.0, 0.0, 0.0]\n"
     ]
    }
   ],
   "source": [
    "for i in range(len(geteval.metrics['confusionMatrix']['annotationSpecs'])):\n",
    "    true_label = geteval.metrics['confusionMatrix']['annotationSpecs'][i]['displayName']\n",
    "    predicted_labels = geteval.metrics['confusionMatrix']['rows'][i]\n",
    "    print(f'True Label = {true_label} has predicted labels = {predicted_labels}')"
   ]
  },
  {
   "cell_type": "code",
   "execution_count": 37,
   "id": "381de548-5a99-4988-8345-e1cde268180a",
   "metadata": {
    "tags": []
   },
   "outputs": [],
   "source": [
    "slices = model_client.list_model_evaluation_slices(parent= eval_id)"
   ]
  },
  {
   "cell_type": "markdown",
   "id": "4c02c5a7-55c3-4a12-a3f6-7734eda4e6d3",
   "metadata": {},
   "source": [
    "Print value of the area under precision curve "
   ]
  },
  {
   "cell_type": "code",
   "execution_count": 38,
   "id": "ef479068-481f-4328-ab59-b7b99a7db8d6",
   "metadata": {
    "tags": []
   },
   "outputs": [
    {
     "name": "stdout",
     "output_type": "stream",
     "text": [
      "Label =  1 has auPrc=  0.7954801\n",
      "Label =  0 has auPrc=  0.99971676\n"
     ]
    }
   ],
   "source": [
    "for slice in slices:\n",
    "    print('Label = ', slice.slice_.value, 'has auPrc= ', slice.metrics['auPrc'])"
   ]
  },
  {
   "cell_type": "markdown",
   "id": "fea23cd8-847e-46fe-b842-7997d4172d60",
   "metadata": {},
   "source": [
    "## Remove resources!"
   ]
  }
 ],
 "metadata": {
  "environment": {
   "kernel": "conda-env-tensorflow-tensorflow",
   "name": "workbench-notebooks.m128",
   "type": "gcloud",
   "uri": "us-docker.pkg.dev/deeplearning-platform-release/gcr.io/workbench-notebooks:m128"
  },
  "kernelspec": {
   "display_name": "TensorFlow 2-11 (Local)",
   "language": "python",
   "name": "conda-env-tensorflow-tensorflow"
  },
  "language_info": {
   "codemirror_mode": {
    "name": "ipython",
    "version": 3
   },
   "file_extension": ".py",
   "mimetype": "text/x-python",
   "name": "python",
   "nbconvert_exporter": "python",
   "pygments_lexer": "ipython3",
   "version": "3.10.16"
  }
 },
 "nbformat": 4,
 "nbformat_minor": 5
}
